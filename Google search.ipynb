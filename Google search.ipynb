def Details_About_Disease(disease_variable):
    diseases=[disease_variable]
    ret=disease_variable+"\n"
    for counter in diseases:
        # search "wikipedia" for the disease identified above through google search 
        query = counter+' wikipedia'
        for sr in search(query,tld="co.in",stop=10,pause=0.5): 
            # open wikipedia link
            match=re.search(r'wikipedia',sr)
            filled = 0