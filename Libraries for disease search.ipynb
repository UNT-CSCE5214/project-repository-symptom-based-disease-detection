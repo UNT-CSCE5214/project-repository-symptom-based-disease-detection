import re
warnings.filterwarnings("ignore")
import requests
from googlesearch import search
from bs4 import BeautifulSoup